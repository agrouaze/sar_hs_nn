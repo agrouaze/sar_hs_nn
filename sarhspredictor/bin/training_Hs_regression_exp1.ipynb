{
 "cells": [
  {
   "cell_type": "code",
   "execution_count": 1,
   "id": "b30be2b1-900e-4cfb-8571-cbd9b252eb70",
   "metadata": {},
   "outputs": [
    {
     "data": {
      "text/plain": [
       "'\\n25 sept 2021; jai fourni a Zhengyang un dataset D1 (exp1) qui contient des cross spectre venant des SLC (xsar xrft)\\nje nai pas encore eu loccasion de faire un training, juste pour voir les score avec des hparams non tunés\\n'"
      ]
     },
     "execution_count": 1,
     "metadata": {},
     "output_type": "execute_result"
    }
   ],
   "source": [
    "\"\"\"\n",
    "25 sept 2021; jai fourni a Zhengyang un dataset D1 (exp1) qui contient des cross spectre venant des SLC (xsar xrft)\n",
    "je nai pas encore eu loccasion de faire un training, juste pour voir les score avec des hparams non tunés\n",
    "\"\"\""
   ]
  },
  {
   "cell_type": "code",
   "execution_count": 1,
   "id": "3cdd36d5-7f21-4bf3-8e66-d66fe9f225fa",
   "metadata": {},
   "outputs": [],
   "source": [
    "import logging\n",
    "from importlib import reload\n",
    "import time\n",
    "import numpy as np\n",
    "%load_ext tensorboard\n"
   ]
  },
  {
   "cell_type": "code",
   "execution_count": 8,
   "id": "cacffcad-e237-43cf-9d6a-ea4bc40fb5ad",
   "metadata": {},
   "outputs": [
    {
     "name": "stderr",
     "output_type": "stream",
     "text": [
      "INFO:root:go\n"
     ]
    }
   ],
   "source": [
    "reload(logging)\n",
    "logging.basicConfig(level=logging.INFO)\n",
    "logging.info('go')"
   ]
  },
  {
   "cell_type": "code",
   "execution_count": 3,
   "id": "dc66f1ae-f508-41a4-bb0c-253903c19639",
   "metadata": {},
   "outputs": [],
   "source": [
    "import tensorflow as tf\n",
    "import datetime, os"
   ]
  },
  {
   "cell_type": "code",
   "execution_count": 2,
   "id": "01d89102-13b7-4efa-aa20-284537d36fcb",
   "metadata": {},
   "outputs": [
    {
     "data": {
      "text/html": [
       "\n",
       "      <iframe id=\"tensorboard-frame-31fd4beb4f2d5dcf\" width=\"100%\" height=\"800\" frameborder=\"0\">\n",
       "      </iframe>\n",
       "      <script>\n",
       "        (function() {\n",
       "          const frame = document.getElementById(\"tensorboard-frame-31fd4beb4f2d5dcf\");\n",
       "          const url = new URL(\"/user/agrouaze/proxy/6006/\", window.location);\n",
       "          const port = 0;\n",
       "          if (port) {\n",
       "            url.port = port;\n",
       "          }\n",
       "          frame.src = url;\n",
       "        })();\n",
       "      </script>\n",
       "    "
      ],
      "text/plain": [
       "<IPython.core.display.HTML object>"
      ]
     },
     "metadata": {},
     "output_type": "display_data"
    }
   ],
   "source": [
    "%tensorboard --logdir /home1/scratch/agrouaze/tmp/exp_1_hs_wv_slc"
   ]
  },
  {
   "cell_type": "code",
   "execution_count": 11,
   "id": "47d78745-e4e7-4065-9dec-e53a0d0f585f",
   "metadata": {},
   "outputs": [
    {
     "name": "stdout",
     "output_type": "stream",
     "text": [
      "WARNING:tensorflow:`batch_size` is no longer needed in the `TensorBoard` Callback and will be ignored in TensorFlow 2.0.\n"
     ]
    },
    {
     "name": "stderr",
     "output_type": "stream",
     "text": [
      "WARNING:tensorflow:`batch_size` is no longer needed in the `TensorBoard` Callback and will be ignored in TensorFlow 2.0.\n",
      "INFO:root:correction apllied\n",
      "INFO:root:correction apllied\n",
      "INFO:root:correction apllied\n"
     ]
    },
    {
     "name": "stdout",
     "output_type": "stream",
     "text": [
      "/home1/scratch/agrouaze/test_exp1_complete_dataset_provided_to_zhengyang/keras_model_exp1.h5\n",
      "/home/datawork-cersat-public/cache/project/mpc-sentinel1/analysis/s1_data_analysis/hs_nn/exp1/aggregated_grouped_final_exp1_per_year_v21sept2021.h5\n",
      "Epoch 1/123\n",
      "WARNING:tensorflow:AutoGraph could not transform <function Gaussian_NLL at 0x2aab87bc0670> and will run it as-is.\n",
      "Please report this to the TensorFlow team. When filing the bug, set the verbosity to 10 (on Linux, `export AUTOGRAPH_VERBOSITY=10`) and attach the full output.\n",
      "Cause: module 'gast' has no attribute 'Index'\n",
      "To silence this warning, decorate the function with @tf.autograph.experimental.do_not_convert\n"
     ]
    },
    {
     "name": "stderr",
     "output_type": "stream",
     "text": [
      "WARNING:tensorflow:AutoGraph could not transform <function Gaussian_NLL at 0x2aab87bc0670> and will run it as-is.\n",
      "Please report this to the TensorFlow team. When filing the bug, set the verbosity to 10 (on Linux, `export AUTOGRAPH_VERBOSITY=10`) and attach the full output.\n",
      "Cause: module 'gast' has no attribute 'Index'\n",
      "To silence this warning, decorate the function with @tf.autograph.experimental.do_not_convert\n"
     ]
    },
    {
     "name": "stdout",
     "output_type": "stream",
     "text": [
      "WARNING: AutoGraph could not transform <function Gaussian_NLL at 0x2aab87bc0670> and will run it as-is.\n",
      "Please report this to the TensorFlow team. When filing the bug, set the verbosity to 10 (on Linux, `export AUTOGRAPH_VERBOSITY=10`) and attach the full output.\n",
      "Cause: module 'gast' has no attribute 'Index'\n",
      "To silence this warning, decorate the function with @tf.autograph.experimental.do_not_convert\n",
      "WARNING:tensorflow:AutoGraph could not transform <function Gaussian_MSE at 0x2aab87bc0550> and will run it as-is.\n",
      "Please report this to the TensorFlow team. When filing the bug, set the verbosity to 10 (on Linux, `export AUTOGRAPH_VERBOSITY=10`) and attach the full output.\n",
      "Cause: module 'gast' has no attribute 'Index'\n",
      "To silence this warning, decorate the function with @tf.autograph.experimental.do_not_convert\n"
     ]
    },
    {
     "name": "stderr",
     "output_type": "stream",
     "text": [
      "WARNING:tensorflow:AutoGraph could not transform <function Gaussian_MSE at 0x2aab87bc0550> and will run it as-is.\n",
      "Please report this to the TensorFlow team. When filing the bug, set the verbosity to 10 (on Linux, `export AUTOGRAPH_VERBOSITY=10`) and attach the full output.\n",
      "Cause: module 'gast' has no attribute 'Index'\n",
      "To silence this warning, decorate the function with @tf.autograph.experimental.do_not_convert\n"
     ]
    },
    {
     "name": "stdout",
     "output_type": "stream",
     "text": [
      "WARNING: AutoGraph could not transform <function Gaussian_MSE at 0x2aab87bc0550> and will run it as-is.\n",
      "Please report this to the TensorFlow team. When filing the bug, set the verbosity to 10 (on Linux, `export AUTOGRAPH_VERBOSITY=10`) and attach the full output.\n",
      "Cause: module 'gast' has no attribute 'Index'\n",
      "To silence this warning, decorate the function with @tf.autograph.experimental.do_not_convert\n",
      "3503/3503 [==============================] - 324s 90ms/step - loss: 47.7263 - Gaussian_MSE: 3273.5908 - mean_absolute_error: 1.3598 - mean_absolute_percentage_error: 52.0244 - cosine_similarity: 1.2698 - mean_squared_error: 2290.7040 - val_loss: 0.7047 - val_Gaussian_MSE: 0.4315 - val_mean_absolute_error: 1.2364 - val_mean_absolute_percentage_error: 45.7528 - val_cosine_similarity: 1.2090 - val_mean_squared_error: 2.8996\n",
      "Epoch 2/123\n",
      "3503/3503 [==============================] - 290s 83ms/step - loss: 0.8140 - Gaussian_MSE: 867.4736 - mean_absolute_error: 1.3268 - mean_absolute_percentage_error: 49.7054 - cosine_similarity: 1.2005 - mean_squared_error: 694.5370 - val_loss: 0.5889 - val_Gaussian_MSE: 0.2881 - val_mean_absolute_error: 1.2559 - val_mean_absolute_percentage_error: 46.5035 - val_cosine_similarity: 1.1854 - val_mean_squared_error: 3.0575\n",
      "Epoch 3/123\n",
      "3503/3503 [==============================] - 302s 86ms/step - loss: 1252818.2808 - Gaussian_MSE: 6751.5661 - mean_absolute_error: 1.5770 - mean_absolute_percentage_error: 67.6921 - cosine_similarity: 1.1902 - mean_squared_error: 4483.7434 - val_loss: 0.5619 - val_Gaussian_MSE: 0.2937 - val_mean_absolute_error: 1.2320 - val_mean_absolute_percentage_error: 46.0461 - val_cosine_similarity: 1.1857 - val_mean_squared_error: 2.9732\n",
      "Epoch 4/123\n",
      "3503/3503 [==============================] - 298s 85ms/step - loss: 0.7571 - Gaussian_MSE: 706.4090 - mean_absolute_error: 1.3196 - mean_absolute_percentage_error: 49.3098 - cosine_similarity: 1.1905 - mean_squared_error: 563.2502 - val_loss: 0.5065 - val_Gaussian_MSE: 0.2149 - val_mean_absolute_error: 1.2347 - val_mean_absolute_percentage_error: 46.2424 - val_cosine_similarity: 1.1766 - val_mean_squared_error: 2.9819\n",
      "Epoch 5/123\n",
      "3503/3503 [==============================] - 284s 81ms/step - loss: 0.6934 - Gaussian_MSE: 370.9863 - mean_absolute_error: 1.3233 - mean_absolute_percentage_error: 49.3045 - cosine_similarity: 1.1799 - mean_squared_error: 244.6912 - val_loss: 0.4854 - val_Gaussian_MSE: 0.2045 - val_mean_absolute_error: 1.2495 - val_mean_absolute_percentage_error: 46.6931 - val_cosine_similarity: 1.1700 - val_mean_squared_error: 3.0548\n",
      "Epoch 6/123\n",
      "3503/3503 [==============================] - 278s 79ms/step - loss: 0.6728 - Gaussian_MSE: 200.3367 - mean_absolute_error: 1.3137 - mean_absolute_percentage_error: 48.8090 - cosine_similarity: 1.1767 - mean_squared_error: 170.3343 - val_loss: 0.5116 - val_Gaussian_MSE: 0.2164 - val_mean_absolute_error: 1.2348 - val_mean_absolute_percentage_error: 46.2282 - val_cosine_similarity: 1.1776 - val_mean_squared_error: 2.9570\n",
      "Epoch 7/123\n",
      "3503/3503 [==============================] - 276s 79ms/step - loss: 0.6442 - Gaussian_MSE: 77.9466 - mean_absolute_error: 1.3259 - mean_absolute_percentage_error: 49.5442 - cosine_similarity: 1.1728 - mean_squared_error: 418.4013 - val_loss: 0.4547 - val_Gaussian_MSE: 0.1787 - val_mean_absolute_error: 1.2405 - val_mean_absolute_percentage_error: 46.4519 - val_cosine_similarity: 1.1684 - val_mean_squared_error: 3.0405\n",
      "Epoch 8/123\n",
      "3503/3503 [==============================] - 281s 80ms/step - loss: 0.6237 - Gaussian_MSE: 165.7846 - mean_absolute_error: 1.3120 - mean_absolute_percentage_error: 48.6932 - cosine_similarity: 1.1700 - mean_squared_error: 109.5581 - val_loss: 0.4492 - val_Gaussian_MSE: 0.1792 - val_mean_absolute_error: 1.2439 - val_mean_absolute_percentage_error: 46.3962 - val_cosine_similarity: 1.1700 - val_mean_squared_error: 3.0660\n",
      "Epoch 9/123\n",
      "3503/3503 [==============================] - 283s 81ms/step - loss: 0.6183 - Gaussian_MSE: 155.5582 - mean_absolute_error: 1.3196 - mean_absolute_percentage_error: 48.7031 - cosine_similarity: 1.1680 - mean_squared_error: 112.6579 - val_loss: 0.4070 - val_Gaussian_MSE: 0.1678 - val_mean_absolute_error: 1.2570 - val_mean_absolute_percentage_error: 46.9688 - val_cosine_similarity: 1.1590 - val_mean_squared_error: 3.1410\n",
      "Epoch 10/123\n",
      "3503/3503 [==============================] - 280s 80ms/step - loss: 0.5833 - Gaussian_MSE: 791.4338 - mean_absolute_error: 1.3310 - mean_absolute_percentage_error: 49.5209 - cosine_similarity: 1.1634 - mean_squared_error: 470.3662 - val_loss: 0.6101 - val_Gaussian_MSE: 0.3166 - val_mean_absolute_error: 1.2509 - val_mean_absolute_percentage_error: 45.7089 - val_cosine_similarity: 1.1989 - val_mean_squared_error: 2.9691\n",
      "Epoch 11/123\n",
      "3503/3503 [==============================] - 279s 79ms/step - loss: 0.5862 - Gaussian_MSE: 631.4020 - mean_absolute_error: 1.3576 - mean_absolute_percentage_error: 51.9386 - cosine_similarity: 1.1647 - mean_squared_error: 433.6755 - val_loss: 0.4406 - val_Gaussian_MSE: 0.1755 - val_mean_absolute_error: 1.2574 - val_mean_absolute_percentage_error: 46.8983 - val_cosine_similarity: 1.1644 - val_mean_squared_error: 3.1305\n",
      "Epoch 12/123\n",
      "3503/3503 [==============================] - 274s 78ms/step - loss: 0.5621 - Gaussian_MSE: 1096.1867 - mean_absolute_error: 1.3706 - mean_absolute_percentage_error: 52.1703 - cosine_similarity: 1.1605 - mean_squared_error: 706.5123 - val_loss: 0.3900 - val_Gaussian_MSE: 0.1637 - val_mean_absolute_error: 1.2617 - val_mean_absolute_percentage_error: 47.0313 - val_cosine_similarity: 1.1572 - val_mean_squared_error: 3.1818\n",
      "Epoch 13/123\n",
      "3503/3503 [==============================] - 280s 80ms/step - loss: 0.5410 - Gaussian_MSE: 2150.7080 - mean_absolute_error: 1.5374 - mean_absolute_percentage_error: 63.1346 - cosine_similarity: 1.1579 - mean_squared_error: 3905.2930 - val_loss: 0.3947 - val_Gaussian_MSE: 0.1806 - val_mean_absolute_error: 1.2644 - val_mean_absolute_percentage_error: 47.2267 - val_cosine_similarity: 1.1524 - val_mean_squared_error: 3.1537\n",
      "Epoch 14/123\n",
      "3503/3503 [==============================] - 286s 82ms/step - loss: 0.5285 - Gaussian_MSE: 27.2228 - mean_absolute_error: 1.3198 - mean_absolute_percentage_error: 48.8794 - cosine_similarity: 1.1565 - mean_squared_error: 47.1275 - val_loss: 0.3565 - val_Gaussian_MSE: 0.1507 - val_mean_absolute_error: 1.2623 - val_mean_absolute_percentage_error: 47.2559 - val_cosine_similarity: 1.1494 - val_mean_squared_error: 3.1938\n",
      "Epoch 15/123\n",
      "3503/3503 [==============================] - 289s 82ms/step - loss: 0.5306 - Gaussian_MSE: 7.0352 - mean_absolute_error: 1.3130 - mean_absolute_percentage_error: 48.4571 - cosine_similarity: 1.1563 - mean_squared_error: 17.9061 - val_loss: 0.3306 - val_Gaussian_MSE: 0.1437 - val_mean_absolute_error: 1.2625 - val_mean_absolute_percentage_error: 47.1881 - val_cosine_similarity: 1.1479 - val_mean_squared_error: 3.2244\n",
      "Epoch 16/123\n",
      "3503/3503 [==============================] - 286s 82ms/step - loss: 0.5129 - Gaussian_MSE: 357.7874 - mean_absolute_error: 1.3249 - mean_absolute_percentage_error: 49.3827 - cosine_similarity: 1.1542 - mean_squared_error: 236.1967 - val_loss: 0.3706 - val_Gaussian_MSE: 0.1616 - val_mean_absolute_error: 1.2714 - val_mean_absolute_percentage_error: 47.4285 - val_cosine_similarity: 1.1515 - val_mean_squared_error: 3.2334\n",
      "Epoch 17/123\n",
      "3503/3503 [==============================] - 319s 91ms/step - loss: 0.5000 - Gaussian_MSE: 6.9720 - mean_absolute_error: 1.3179 - mean_absolute_percentage_error: 48.4517 - cosine_similarity: 1.1520 - mean_squared_error: 8.7118 - val_loss: 0.3192 - val_Gaussian_MSE: 0.1371 - val_mean_absolute_error: 1.2568 - val_mean_absolute_percentage_error: 47.0965 - val_cosine_similarity: 1.1474 - val_mean_squared_error: 3.1897\n",
      "Epoch 18/123\n",
      "3503/3503 [==============================] - 293s 83ms/step - loss: 0.4934 - Gaussian_MSE: 1.0518 - mean_absolute_error: 1.3222 - mean_absolute_percentage_error: 48.5538 - cosine_similarity: 1.1512 - mean_squared_error: 56.3589 - val_loss: 0.3053 - val_Gaussian_MSE: 0.1417 - val_mean_absolute_error: 1.2696 - val_mean_absolute_percentage_error: 47.4321 - val_cosine_similarity: 1.1439 - val_mean_squared_error: 3.2767\n",
      "Epoch 19/123\n",
      "3503/3503 [==============================] - 284s 81ms/step - loss: nan - Gaussian_MSE: nan - mean_absolute_error: nan - mean_absolute_percentage_error: nan - cosine_similarity: nan - mean_squared_error: nan - val_loss: nan - val_Gaussian_MSE: nan - val_mean_absolute_error: nan - val_mean_absolute_percentage_error: nan - val_cosine_similarity: nan - val_mean_squared_error: nan\n"
     ]
    },
    {
     "ename": "InvalidArgumentError",
     "evalue": "Nan in summary histogram for: dense_58/kernel_0 [Op:WriteHistogramSummary]",
     "output_type": "error",
     "traceback": [
      "\u001b[0;31m---------------------------------------------------------------------------\u001b[0m",
      "\u001b[0;31mInvalidArgumentError\u001b[0m                      Traceback (most recent call last)",
      "\u001b[0;32m<ipython-input-11-a498c669fb21>\u001b[0m in \u001b[0;36m<module>\u001b[0;34m\u001b[0m\n\u001b[1;32m      5\u001b[0m \u001b[0mt0\u001b[0m \u001b[0;34m=\u001b[0m \u001b[0mtime\u001b[0m\u001b[0;34m.\u001b[0m\u001b[0mtime\u001b[0m\u001b[0;34m(\u001b[0m\u001b[0;34m)\u001b[0m\u001b[0;34m\u001b[0m\u001b[0;34m\u001b[0m\u001b[0m\n\u001b[1;32m      6\u001b[0m \u001b[0moutput_model\u001b[0m \u001b[0;34m=\u001b[0m \u001b[0;34m'/home1/scratch/agrouaze/test_exp1_complete_dataset_provided_to_zhengyang/keras_model_exp1.h5'\u001b[0m\u001b[0;34m\u001b[0m\u001b[0;34m\u001b[0m\u001b[0m\n\u001b[0;32m----> 7\u001b[0;31m \u001b[0mtraining_Hs_regression_exp1\u001b[0m\u001b[0;34m.\u001b[0m\u001b[0mstart_training\u001b[0m\u001b[0;34m(\u001b[0m\u001b[0mcheckPointModelSave\u001b[0m\u001b[0;34m=\u001b[0m\u001b[0moutput_model\u001b[0m\u001b[0;34m)\u001b[0m\u001b[0;34m\u001b[0m\u001b[0;34m\u001b[0m\u001b[0m\n\u001b[0m\u001b[1;32m      8\u001b[0m \u001b[0mlogging\u001b[0m\u001b[0;34m.\u001b[0m\u001b[0minfo\u001b[0m\u001b[0;34m(\u001b[0m\u001b[0;34m'elapsed time %1.1f sec'\u001b[0m\u001b[0;34m,\u001b[0m\u001b[0mtime\u001b[0m\u001b[0;34m.\u001b[0m\u001b[0mtime\u001b[0m\u001b[0;34m(\u001b[0m\u001b[0;34m)\u001b[0m\u001b[0;34m-\u001b[0m\u001b[0mt0\u001b[0m\u001b[0;34m)\u001b[0m\u001b[0;34m\u001b[0m\u001b[0;34m\u001b[0m\u001b[0m\n",
      "\u001b[0;32m~/sources/git/sar_hs_nn/sarhspredictor/bin/training_Hs_regression_exp1.py\u001b[0m in \u001b[0;36mstart_training\u001b[0;34m(learning_rate, batch_size, drop_out, tblogdir, save_model, hparams, checkPointModelSave)\u001b[0m\n\u001b[1;32m    134\u001b[0m     \u001b[0mclbks\u001b[0m \u001b[0;34m=\u001b[0m \u001b[0;34m[\u001b[0m\u001b[0mreduce_lr\u001b[0m\u001b[0;34m,\u001b[0m\u001b[0mcheck\u001b[0m\u001b[0;34m,\u001b[0m\u001b[0mstop\u001b[0m\u001b[0;34m,\u001b[0m\u001b[0mtensorBoard\u001b[0m\u001b[0;34m]\u001b[0m \u001b[0;31m# hp.KerasCallback(tblogdir, hparams)\u001b[0m\u001b[0;34m\u001b[0m\u001b[0;34m\u001b[0m\u001b[0m\n\u001b[1;32m    135\u001b[0m \u001b[0;34m\u001b[0m\u001b[0m\n\u001b[0;32m--> 136\u001b[0;31m     history = model.fit(train,\n\u001b[0m\u001b[1;32m    137\u001b[0m                         \u001b[0mepochs\u001b[0m\u001b[0;34m=\u001b[0m\u001b[0mepochs\u001b[0m\u001b[0;34m,\u001b[0m\u001b[0;34m\u001b[0m\u001b[0;34m\u001b[0m\u001b[0m\n\u001b[1;32m    138\u001b[0m                         \u001b[0mvalidation_data\u001b[0m\u001b[0;34m=\u001b[0m\u001b[0mvalid\u001b[0m\u001b[0;34m,\u001b[0m\u001b[0;34m\u001b[0m\u001b[0;34m\u001b[0m\u001b[0m\n",
      "\u001b[0;32m/appli/conda-env/jupyterhub-tensorflow/lib/python3.9/site-packages/tensorflow/python/keras/engine/training.py\u001b[0m in \u001b[0;36mfit\u001b[0;34m(self, x, y, batch_size, epochs, verbose, callbacks, validation_split, validation_data, shuffle, class_weight, sample_weight, initial_epoch, steps_per_epoch, validation_steps, validation_batch_size, validation_freq, max_queue_size, workers, use_multiprocessing)\u001b[0m\n\u001b[1;32m   1143\u001b[0m           \u001b[0mepoch_logs\u001b[0m\u001b[0;34m.\u001b[0m\u001b[0mupdate\u001b[0m\u001b[0;34m(\u001b[0m\u001b[0mval_logs\u001b[0m\u001b[0;34m)\u001b[0m\u001b[0;34m\u001b[0m\u001b[0;34m\u001b[0m\u001b[0m\n\u001b[1;32m   1144\u001b[0m \u001b[0;34m\u001b[0m\u001b[0m\n\u001b[0;32m-> 1145\u001b[0;31m         \u001b[0mcallbacks\u001b[0m\u001b[0;34m.\u001b[0m\u001b[0mon_epoch_end\u001b[0m\u001b[0;34m(\u001b[0m\u001b[0mepoch\u001b[0m\u001b[0;34m,\u001b[0m \u001b[0mepoch_logs\u001b[0m\u001b[0;34m)\u001b[0m\u001b[0;34m\u001b[0m\u001b[0;34m\u001b[0m\u001b[0m\n\u001b[0m\u001b[1;32m   1146\u001b[0m         \u001b[0mtraining_logs\u001b[0m \u001b[0;34m=\u001b[0m \u001b[0mepoch_logs\u001b[0m\u001b[0;34m\u001b[0m\u001b[0;34m\u001b[0m\u001b[0m\n\u001b[1;32m   1147\u001b[0m         \u001b[0;32mif\u001b[0m \u001b[0mself\u001b[0m\u001b[0;34m.\u001b[0m\u001b[0mstop_training\u001b[0m\u001b[0;34m:\u001b[0m\u001b[0;34m\u001b[0m\u001b[0;34m\u001b[0m\u001b[0m\n",
      "\u001b[0;32m/appli/conda-env/jupyterhub-tensorflow/lib/python3.9/site-packages/tensorflow/python/keras/callbacks.py\u001b[0m in \u001b[0;36mon_epoch_end\u001b[0;34m(self, epoch, logs)\u001b[0m\n\u001b[1;32m    426\u001b[0m     \u001b[0;32mfor\u001b[0m \u001b[0mcallback\u001b[0m \u001b[0;32min\u001b[0m \u001b[0mself\u001b[0m\u001b[0;34m.\u001b[0m\u001b[0mcallbacks\u001b[0m\u001b[0;34m:\u001b[0m\u001b[0;34m\u001b[0m\u001b[0;34m\u001b[0m\u001b[0m\n\u001b[1;32m    427\u001b[0m       \u001b[0;32mif\u001b[0m \u001b[0mgetattr\u001b[0m\u001b[0;34m(\u001b[0m\u001b[0mcallback\u001b[0m\u001b[0;34m,\u001b[0m \u001b[0;34m'_supports_tf_logs'\u001b[0m\u001b[0;34m,\u001b[0m \u001b[0;32mFalse\u001b[0m\u001b[0;34m)\u001b[0m\u001b[0;34m:\u001b[0m\u001b[0;34m\u001b[0m\u001b[0;34m\u001b[0m\u001b[0m\n\u001b[0;32m--> 428\u001b[0;31m         \u001b[0mcallback\u001b[0m\u001b[0;34m.\u001b[0m\u001b[0mon_epoch_end\u001b[0m\u001b[0;34m(\u001b[0m\u001b[0mepoch\u001b[0m\u001b[0;34m,\u001b[0m \u001b[0mlogs\u001b[0m\u001b[0;34m)\u001b[0m\u001b[0;34m\u001b[0m\u001b[0;34m\u001b[0m\u001b[0m\n\u001b[0m\u001b[1;32m    429\u001b[0m       \u001b[0;32melse\u001b[0m\u001b[0;34m:\u001b[0m\u001b[0;34m\u001b[0m\u001b[0;34m\u001b[0m\u001b[0m\n\u001b[1;32m    430\u001b[0m         \u001b[0;32mif\u001b[0m \u001b[0mnumpy_logs\u001b[0m \u001b[0;32mis\u001b[0m \u001b[0;32mNone\u001b[0m\u001b[0;34m:\u001b[0m  \u001b[0;31m# Only convert once.\u001b[0m\u001b[0;34m\u001b[0m\u001b[0;34m\u001b[0m\u001b[0m\n",
      "\u001b[0;32m/appli/conda-env/jupyterhub-tensorflow/lib/python3.9/site-packages/tensorflow/python/keras/callbacks.py\u001b[0m in \u001b[0;36mon_epoch_end\u001b[0;34m(self, epoch, logs)\u001b[0m\n\u001b[1;32m   2337\u001b[0m \u001b[0;34m\u001b[0m\u001b[0m\n\u001b[1;32m   2338\u001b[0m     \u001b[0;32mif\u001b[0m \u001b[0mself\u001b[0m\u001b[0;34m.\u001b[0m\u001b[0mhistogram_freq\u001b[0m \u001b[0;32mand\u001b[0m \u001b[0mepoch\u001b[0m \u001b[0;34m%\u001b[0m \u001b[0mself\u001b[0m\u001b[0;34m.\u001b[0m\u001b[0mhistogram_freq\u001b[0m \u001b[0;34m==\u001b[0m \u001b[0;36m0\u001b[0m\u001b[0;34m:\u001b[0m\u001b[0;34m\u001b[0m\u001b[0;34m\u001b[0m\u001b[0m\n\u001b[0;32m-> 2339\u001b[0;31m       \u001b[0mself\u001b[0m\u001b[0;34m.\u001b[0m\u001b[0m_log_weights\u001b[0m\u001b[0;34m(\u001b[0m\u001b[0mepoch\u001b[0m\u001b[0;34m)\u001b[0m\u001b[0;34m\u001b[0m\u001b[0;34m\u001b[0m\u001b[0m\n\u001b[0m\u001b[1;32m   2340\u001b[0m \u001b[0;34m\u001b[0m\u001b[0m\n\u001b[1;32m   2341\u001b[0m     \u001b[0;32mif\u001b[0m \u001b[0mself\u001b[0m\u001b[0;34m.\u001b[0m\u001b[0membeddings_freq\u001b[0m \u001b[0;32mand\u001b[0m \u001b[0mepoch\u001b[0m \u001b[0;34m%\u001b[0m \u001b[0mself\u001b[0m\u001b[0;34m.\u001b[0m\u001b[0membeddings_freq\u001b[0m \u001b[0;34m==\u001b[0m \u001b[0;36m0\u001b[0m\u001b[0;34m:\u001b[0m\u001b[0;34m\u001b[0m\u001b[0;34m\u001b[0m\u001b[0m\n",
      "\u001b[0;32m/appli/conda-env/jupyterhub-tensorflow/lib/python3.9/site-packages/tensorflow/python/keras/callbacks.py\u001b[0m in \u001b[0;36m_log_weights\u001b[0;34m(self, epoch)\u001b[0m\n\u001b[1;32m   2396\u001b[0m           \u001b[0;32mfor\u001b[0m \u001b[0mweight\u001b[0m \u001b[0;32min\u001b[0m \u001b[0mlayer\u001b[0m\u001b[0;34m.\u001b[0m\u001b[0mweights\u001b[0m\u001b[0;34m:\u001b[0m\u001b[0;34m\u001b[0m\u001b[0;34m\u001b[0m\u001b[0m\n\u001b[1;32m   2397\u001b[0m             \u001b[0mweight_name\u001b[0m \u001b[0;34m=\u001b[0m \u001b[0mweight\u001b[0m\u001b[0;34m.\u001b[0m\u001b[0mname\u001b[0m\u001b[0;34m.\u001b[0m\u001b[0mreplace\u001b[0m\u001b[0;34m(\u001b[0m\u001b[0;34m':'\u001b[0m\u001b[0;34m,\u001b[0m \u001b[0;34m'_'\u001b[0m\u001b[0;34m)\u001b[0m\u001b[0;34m\u001b[0m\u001b[0;34m\u001b[0m\u001b[0m\n\u001b[0;32m-> 2398\u001b[0;31m             \u001b[0msummary_ops_v2\u001b[0m\u001b[0;34m.\u001b[0m\u001b[0mhistogram\u001b[0m\u001b[0;34m(\u001b[0m\u001b[0mweight_name\u001b[0m\u001b[0;34m,\u001b[0m \u001b[0mweight\u001b[0m\u001b[0;34m,\u001b[0m \u001b[0mstep\u001b[0m\u001b[0;34m=\u001b[0m\u001b[0mepoch\u001b[0m\u001b[0;34m)\u001b[0m\u001b[0;34m\u001b[0m\u001b[0;34m\u001b[0m\u001b[0m\n\u001b[0m\u001b[1;32m   2399\u001b[0m             \u001b[0;32mif\u001b[0m \u001b[0mself\u001b[0m\u001b[0;34m.\u001b[0m\u001b[0mwrite_images\u001b[0m\u001b[0;34m:\u001b[0m\u001b[0;34m\u001b[0m\u001b[0;34m\u001b[0m\u001b[0m\n\u001b[1;32m   2400\u001b[0m               \u001b[0mself\u001b[0m\u001b[0;34m.\u001b[0m\u001b[0m_log_weight_as_image\u001b[0m\u001b[0;34m(\u001b[0m\u001b[0mweight\u001b[0m\u001b[0;34m,\u001b[0m \u001b[0mweight_name\u001b[0m\u001b[0;34m,\u001b[0m \u001b[0mepoch\u001b[0m\u001b[0;34m)\u001b[0m\u001b[0;34m\u001b[0m\u001b[0;34m\u001b[0m\u001b[0m\n",
      "\u001b[0;32m/appli/conda-env/jupyterhub-tensorflow/lib/python3.9/site-packages/tensorflow/python/ops/summary_ops_v2.py\u001b[0m in \u001b[0;36mhistogram\u001b[0;34m(name, tensor, family, step)\u001b[0m\n\u001b[1;32m    928\u001b[0m         name=scope)\n\u001b[1;32m    929\u001b[0m \u001b[0;34m\u001b[0m\u001b[0m\n\u001b[0;32m--> 930\u001b[0;31m   \u001b[0;32mreturn\u001b[0m \u001b[0msummary_writer_function\u001b[0m\u001b[0;34m(\u001b[0m\u001b[0mname\u001b[0m\u001b[0;34m,\u001b[0m \u001b[0mtensor\u001b[0m\u001b[0;34m,\u001b[0m \u001b[0mfunction\u001b[0m\u001b[0;34m,\u001b[0m \u001b[0mfamily\u001b[0m\u001b[0;34m=\u001b[0m\u001b[0mfamily\u001b[0m\u001b[0;34m)\u001b[0m\u001b[0;34m\u001b[0m\u001b[0;34m\u001b[0m\u001b[0m\n\u001b[0m\u001b[1;32m    931\u001b[0m \u001b[0;34m\u001b[0m\u001b[0m\n\u001b[1;32m    932\u001b[0m \u001b[0;34m\u001b[0m\u001b[0m\n",
      "\u001b[0;32m/appli/conda-env/jupyterhub-tensorflow/lib/python3.9/site-packages/tensorflow/python/ops/summary_ops_v2.py\u001b[0m in \u001b[0;36msummary_writer_function\u001b[0;34m(name, tensor, function, family)\u001b[0m\n\u001b[1;32m    856\u001b[0m     \u001b[0;32mreturn\u001b[0m \u001b[0mcontrol_flow_ops\u001b[0m\u001b[0;34m.\u001b[0m\u001b[0mno_op\u001b[0m\u001b[0;34m(\u001b[0m\u001b[0;34m)\u001b[0m\u001b[0;34m\u001b[0m\u001b[0;34m\u001b[0m\u001b[0m\n\u001b[1;32m    857\u001b[0m   \u001b[0;32mwith\u001b[0m \u001b[0mops\u001b[0m\u001b[0;34m.\u001b[0m\u001b[0mdevice\u001b[0m\u001b[0;34m(\u001b[0m\u001b[0;34m\"cpu:0\"\u001b[0m\u001b[0;34m)\u001b[0m\u001b[0;34m:\u001b[0m\u001b[0;34m\u001b[0m\u001b[0;34m\u001b[0m\u001b[0m\n\u001b[0;32m--> 858\u001b[0;31m     op = smart_cond.smart_cond(\n\u001b[0m\u001b[1;32m    859\u001b[0m         should_record_summaries(), record, _nothing, name=\"\")\n\u001b[1;32m    860\u001b[0m     \u001b[0;32mif\u001b[0m \u001b[0;32mnot\u001b[0m \u001b[0mcontext\u001b[0m\u001b[0;34m.\u001b[0m\u001b[0mexecuting_eagerly\u001b[0m\u001b[0;34m(\u001b[0m\u001b[0;34m)\u001b[0m\u001b[0;34m:\u001b[0m\u001b[0;34m\u001b[0m\u001b[0;34m\u001b[0m\u001b[0m\n",
      "\u001b[0;32m/appli/conda-env/jupyterhub-tensorflow/lib/python3.9/site-packages/tensorflow/python/framework/smart_cond.py\u001b[0m in \u001b[0;36msmart_cond\u001b[0;34m(pred, true_fn, false_fn, name)\u001b[0m\n\u001b[1;32m     52\u001b[0m   \u001b[0;32mif\u001b[0m \u001b[0mpred_value\u001b[0m \u001b[0;32mis\u001b[0m \u001b[0;32mnot\u001b[0m \u001b[0;32mNone\u001b[0m\u001b[0;34m:\u001b[0m\u001b[0;34m\u001b[0m\u001b[0;34m\u001b[0m\u001b[0m\n\u001b[1;32m     53\u001b[0m     \u001b[0;32mif\u001b[0m \u001b[0mpred_value\u001b[0m\u001b[0;34m:\u001b[0m\u001b[0;34m\u001b[0m\u001b[0;34m\u001b[0m\u001b[0m\n\u001b[0;32m---> 54\u001b[0;31m       \u001b[0;32mreturn\u001b[0m \u001b[0mtrue_fn\u001b[0m\u001b[0;34m(\u001b[0m\u001b[0;34m)\u001b[0m\u001b[0;34m\u001b[0m\u001b[0;34m\u001b[0m\u001b[0m\n\u001b[0m\u001b[1;32m     55\u001b[0m     \u001b[0;32melse\u001b[0m\u001b[0;34m:\u001b[0m\u001b[0;34m\u001b[0m\u001b[0;34m\u001b[0m\u001b[0m\n\u001b[1;32m     56\u001b[0m       \u001b[0;32mreturn\u001b[0m \u001b[0mfalse_fn\u001b[0m\u001b[0;34m(\u001b[0m\u001b[0;34m)\u001b[0m\u001b[0;34m\u001b[0m\u001b[0;34m\u001b[0m\u001b[0m\n",
      "\u001b[0;32m/appli/conda-env/jupyterhub-tensorflow/lib/python3.9/site-packages/tensorflow/python/ops/summary_ops_v2.py\u001b[0m in \u001b[0;36mrecord\u001b[0;34m()\u001b[0m\n\u001b[1;32m    850\u001b[0m     with ops.name_scope(name_scope), summary_op_util.summary_scope(\n\u001b[1;32m    851\u001b[0m         name, family, values=[tensor]) as (tag, scope):\n\u001b[0;32m--> 852\u001b[0;31m       \u001b[0;32mwith\u001b[0m \u001b[0mops\u001b[0m\u001b[0;34m.\u001b[0m\u001b[0mcontrol_dependencies\u001b[0m\u001b[0;34m(\u001b[0m\u001b[0;34m[\u001b[0m\u001b[0mfunction\u001b[0m\u001b[0;34m(\u001b[0m\u001b[0mtag\u001b[0m\u001b[0;34m,\u001b[0m \u001b[0mscope\u001b[0m\u001b[0;34m)\u001b[0m\u001b[0;34m]\u001b[0m\u001b[0;34m)\u001b[0m\u001b[0;34m:\u001b[0m\u001b[0;34m\u001b[0m\u001b[0;34m\u001b[0m\u001b[0m\n\u001b[0m\u001b[1;32m    853\u001b[0m         \u001b[0;32mreturn\u001b[0m \u001b[0mconstant_op\u001b[0m\u001b[0;34m.\u001b[0m\u001b[0mconstant\u001b[0m\u001b[0;34m(\u001b[0m\u001b[0;32mTrue\u001b[0m\u001b[0;34m)\u001b[0m\u001b[0;34m\u001b[0m\u001b[0;34m\u001b[0m\u001b[0m\n\u001b[1;32m    854\u001b[0m \u001b[0;34m\u001b[0m\u001b[0m\n",
      "\u001b[0;32m/appli/conda-env/jupyterhub-tensorflow/lib/python3.9/site-packages/tensorflow/python/ops/summary_ops_v2.py\u001b[0m in \u001b[0;36mfunction\u001b[0;34m(tag, scope)\u001b[0m\n\u001b[1;32m    921\u001b[0m   \u001b[0;32mdef\u001b[0m \u001b[0mfunction\u001b[0m\u001b[0;34m(\u001b[0m\u001b[0mtag\u001b[0m\u001b[0;34m,\u001b[0m \u001b[0mscope\u001b[0m\u001b[0;34m)\u001b[0m\u001b[0;34m:\u001b[0m\u001b[0;34m\u001b[0m\u001b[0;34m\u001b[0m\u001b[0m\n\u001b[1;32m    922\u001b[0m     \u001b[0;31m# Note the identity to move the tensor to the CPU.\u001b[0m\u001b[0;34m\u001b[0m\u001b[0;34m\u001b[0m\u001b[0;34m\u001b[0m\u001b[0m\n\u001b[0;32m--> 923\u001b[0;31m     return gen_summary_ops.write_histogram_summary(\n\u001b[0m\u001b[1;32m    924\u001b[0m         \u001b[0m_summary_state\u001b[0m\u001b[0;34m.\u001b[0m\u001b[0mwriter\u001b[0m\u001b[0;34m.\u001b[0m\u001b[0m_resource\u001b[0m\u001b[0;34m,\u001b[0m  \u001b[0;31m# pylint: disable=protected-access\u001b[0m\u001b[0;34m\u001b[0m\u001b[0;34m\u001b[0m\u001b[0m\n\u001b[1;32m    925\u001b[0m         \u001b[0m_choose_step\u001b[0m\u001b[0;34m(\u001b[0m\u001b[0mstep\u001b[0m\u001b[0;34m)\u001b[0m\u001b[0;34m,\u001b[0m\u001b[0;34m\u001b[0m\u001b[0;34m\u001b[0m\u001b[0m\n",
      "\u001b[0;32m/appli/conda-env/jupyterhub-tensorflow/lib/python3.9/site-packages/tensorflow/python/ops/gen_summary_ops.py\u001b[0m in \u001b[0;36mwrite_histogram_summary\u001b[0;34m(writer, step, tag, values, name)\u001b[0m\n\u001b[1;32m    477\u001b[0m       \u001b[0;32mpass\u001b[0m\u001b[0;34m\u001b[0m\u001b[0;34m\u001b[0m\u001b[0m\n\u001b[1;32m    478\u001b[0m     \u001b[0;32mtry\u001b[0m\u001b[0;34m:\u001b[0m\u001b[0;34m\u001b[0m\u001b[0;34m\u001b[0m\u001b[0m\n\u001b[0;32m--> 479\u001b[0;31m       return write_histogram_summary_eager_fallback(\n\u001b[0m\u001b[1;32m    480\u001b[0m           writer, step, tag, values, name=name, ctx=_ctx)\n\u001b[1;32m    481\u001b[0m     \u001b[0;32mexcept\u001b[0m \u001b[0m_core\u001b[0m\u001b[0;34m.\u001b[0m\u001b[0m_SymbolicException\u001b[0m\u001b[0;34m:\u001b[0m\u001b[0;34m\u001b[0m\u001b[0;34m\u001b[0m\u001b[0m\n",
      "\u001b[0;32m/appli/conda-env/jupyterhub-tensorflow/lib/python3.9/site-packages/tensorflow/python/ops/gen_summary_ops.py\u001b[0m in \u001b[0;36mwrite_histogram_summary_eager_fallback\u001b[0;34m(writer, step, tag, values, name, ctx)\u001b[0m\n\u001b[1;32m    496\u001b[0m   \u001b[0m_inputs_flat\u001b[0m \u001b[0;34m=\u001b[0m \u001b[0;34m[\u001b[0m\u001b[0mwriter\u001b[0m\u001b[0;34m,\u001b[0m \u001b[0mstep\u001b[0m\u001b[0;34m,\u001b[0m \u001b[0mtag\u001b[0m\u001b[0;34m,\u001b[0m \u001b[0mvalues\u001b[0m\u001b[0;34m]\u001b[0m\u001b[0;34m\u001b[0m\u001b[0;34m\u001b[0m\u001b[0m\n\u001b[1;32m    497\u001b[0m   \u001b[0m_attrs\u001b[0m \u001b[0;34m=\u001b[0m \u001b[0;34m(\u001b[0m\u001b[0;34m\"T\"\u001b[0m\u001b[0;34m,\u001b[0m \u001b[0m_attr_T\u001b[0m\u001b[0;34m)\u001b[0m\u001b[0;34m\u001b[0m\u001b[0;34m\u001b[0m\u001b[0m\n\u001b[0;32m--> 498\u001b[0;31m   _result = _execute.execute(b\"WriteHistogramSummary\", 0, inputs=_inputs_flat,\n\u001b[0m\u001b[1;32m    499\u001b[0m                              attrs=_attrs, ctx=ctx, name=name)\n\u001b[1;32m    500\u001b[0m   \u001b[0m_result\u001b[0m \u001b[0;34m=\u001b[0m \u001b[0;32mNone\u001b[0m\u001b[0;34m\u001b[0m\u001b[0;34m\u001b[0m\u001b[0m\n",
      "\u001b[0;32m/appli/conda-env/jupyterhub-tensorflow/lib/python3.9/site-packages/tensorflow/python/eager/execute.py\u001b[0m in \u001b[0;36mquick_execute\u001b[0;34m(op_name, num_outputs, inputs, attrs, ctx, name)\u001b[0m\n\u001b[1;32m     57\u001b[0m   \u001b[0;32mtry\u001b[0m\u001b[0;34m:\u001b[0m\u001b[0;34m\u001b[0m\u001b[0;34m\u001b[0m\u001b[0m\n\u001b[1;32m     58\u001b[0m     \u001b[0mctx\u001b[0m\u001b[0;34m.\u001b[0m\u001b[0mensure_initialized\u001b[0m\u001b[0;34m(\u001b[0m\u001b[0;34m)\u001b[0m\u001b[0;34m\u001b[0m\u001b[0;34m\u001b[0m\u001b[0m\n\u001b[0;32m---> 59\u001b[0;31m     tensors = pywrap_tfe.TFE_Py_Execute(ctx._handle, device_name, op_name,\n\u001b[0m\u001b[1;32m     60\u001b[0m                                         inputs, attrs, num_outputs)\n\u001b[1;32m     61\u001b[0m   \u001b[0;32mexcept\u001b[0m \u001b[0mcore\u001b[0m\u001b[0;34m.\u001b[0m\u001b[0m_NotOkStatusException\u001b[0m \u001b[0;32mas\u001b[0m \u001b[0me\u001b[0m\u001b[0;34m:\u001b[0m\u001b[0;34m\u001b[0m\u001b[0;34m\u001b[0m\u001b[0m\n",
      "\u001b[0;31mInvalidArgumentError\u001b[0m: Nan in summary histogram for: dense_58/kernel_0 [Op:WriteHistogramSummary]"
     ]
    }
   ],
   "source": [
    "import sys\n",
    "sys.path.append('/home1/datahome/agrouaze/git/sar_hs_nn/sarhspredictor/bin')\n",
    "import training_Hs_regression_exp1\n",
    "reload(training_Hs_regression_exp1)\n",
    "t0 = time.time()\n",
    "output_model = '/home1/scratch/agrouaze/test_exp1_complete_dataset_provided_to_zhengyang/keras_model_exp1.h5'\n",
    "training_Hs_regression_exp1.start_training(checkPointModelSave=output_model)\n",
    "logging.info('elapsed time %1.1f sec',time.time()-t0)"
   ]
  }
 ],
 "metadata": {
  "kernelspec": {
   "display_name": "jupyterhub-tensorflow-ric",
   "language": "python",
   "name": "tensorflow_ric"
  },
  "language_info": {
   "codemirror_mode": {
    "name": "ipython",
    "version": 3
   },
   "file_extension": ".py",
   "mimetype": "text/x-python",
   "name": "python",
   "nbconvert_exporter": "python",
   "pygments_lexer": "ipython3",
   "version": "3.9.4"
  }
 },
 "nbformat": 4,
 "nbformat_minor": 5
}
