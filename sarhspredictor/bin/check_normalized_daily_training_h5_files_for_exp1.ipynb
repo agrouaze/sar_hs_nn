{
 "cells": [
  {
   "cell_type": "code",
   "execution_count": 1,
   "id": "f8499312-a4c5-467d-8e65-bdf0ea0721a9",
   "metadata": {},
   "outputs": [
    {
     "data": {
      "text/plain": [
       "'\\n16 sept 2021\\ngrouazel\\njai des fichiers qui nont peut pas tte les variables ou alors pas avec la meme dimension( hdf files cest de la merde)\\n'"
      ]
     },
     "execution_count": 1,
     "metadata": {},
     "output_type": "execute_result"
    }
   ],
   "source": [
    "\"\"\"\n",
    "16 sept 2021\n",
    "grouazel\n",
    "jai des fichiers qui nont peut pas tte les variables ou alors pas avec la meme dimension( hdf files cest de la merde)\n",
    "\"\"\""
   ]
  },
  {
   "cell_type": "code",
   "execution_count": 1,
   "id": "88d6836b-70a8-4603-97d7-ade21ab6fce7",
   "metadata": {},
   "outputs": [],
   "source": [
    "import glob\n",
    "import time\n",
    "import sys\n",
    "import h5py\n",
    "import os\n",
    "import sys"
   ]
  },
  {
   "cell_type": "code",
   "execution_count": null,
   "id": "87dbfc24-7d82-41ff-8dd2-375164bdec27",
   "metadata": {},
   "outputs": [],
   "source": []
  },
  {
   "cell_type": "code",
   "execution_count": 2,
   "id": "9ac45ebd-93f4-4c98-b31e-fa4d6305214e",
   "metadata": {},
   "outputs": [
    {
     "name": "stdout",
     "output_type": "stream",
     "text": [
      "lst_files 1757\n"
     ]
    }
   ],
   "source": [
    "dd = '/home/datawork-cersat-public/cache/project/mpc-sentinel1/analysis/s1_data_analysis/hs_nn/exp1/training_dataset/v3_norm_v7/'\n",
    "dd = '/home/datawork-cersat-public/cache/project/mpc-sentinel1/analysis/s1_data_analysis/hs_nn/exp1v4/training_dataset/v1_norm/'\n",
    "dd = '/home/datawork-cersat-public/cache/project/mpc-sentinel1/analysis/s1_data_analysis/hs_nn/exp1/training_dataset/v4_norm_v1/'\n",
    "lst_files = glob.glob(os.path.join(dd,'*.h5'))\n",
    "print('lst_files',len(lst_files))"
   ]
  },
  {
   "cell_type": "code",
   "execution_count": 3,
   "id": "e4a74d47-a0f4-496a-aeec-66481b9cf731",
   "metadata": {},
   "outputs": [
    {
     "name": "stdout",
     "output_type": "stream",
     "text": [
      "/home/datawork-cersat-public/cache/project/mpc-sentinel1/analysis/s1_data_analysis/hs_nn/exp1/training_dataset/v4_norm_v1/S1A_training_exp1_Hs_NN_regression_20180312.h5\n"
     ]
    }
   ],
   "source": [
    "print(lst_files[0])"
   ]
  },
  {
   "cell_type": "code",
   "execution_count": 4,
   "id": "4d3ab4f3-92f1-4fb0-b9df-2d24a4508353",
   "metadata": {},
   "outputs": [],
   "source": [
    "# var for exp1\n",
    "needed_vars = ['cspcIm_ocn','cspcIm_slc','cspcRe_ocn','cspcRe_slc','cwave','cwave_ocn','dt','dx','dxdt','hsALT','hsSM',\n",
    "              'incidence','incidenceAngle','latALT','latSAR','latlonSAR','latlonSARcossin','lonALT','lonSAR','nk',\n",
    "              'normalizedVariance','py_S','py_S_ocn','satellite','sigma0','spectrum','spectrum_ocn','timeALT','timeSAR','todSAR']\n",
    "# variables for exp2 (aka exp1v4)\n",
    "if False:\n",
    "    needed_vars = ['cspcIm_slc','cspcRe_slc','hsALT','incidence','incidenceAngle','latALT','latSAR','latlonSAR','latlonSARcossin','lonALT','lonSAR','nk',\n",
    "              'normalizedVariance','sigma0','spectrum','timeALT','timeSAR','doySAR']\n",
    "#         double (phony_dim_0, phony_dim_2, phony_dim_1) ;\n",
    "#         double (phony_dim_0, phony_dim_1, phony_dim_2) ;\n",
    "#         double (phony_dim_0, phony_dim_2, phony_dim_1) ;\n",
    "#         double (phony_dim_0, phony_dim_3) ;\n",
    "#         double (phony_dim_0, phony_dim_3) ;\n",
    "#         float (phony_dim_0) ;\n",
    "#         float (phony_dim_0) ;\n",
    "#         float (phony_dim_0, phony_dim_4) ;\n",
    "#         float (phony_dim_0, phony_dim_5) ;\n",
    "#         float (phony_dim_0) ;\n",
    "#         float (phony_dim_0, phony_dim_4) ;\n",
    "#         float (phony_dim_0) ;\n",
    "#         float (phony_dim_0) ;\n",
    "#         float (phony_dim_0) ;\n",
    "#         float (phony_dim_0, phony_dim_4) ;\n",
    "#         float (phony_dim_0, phony_dim_6) ;\n",
    "#         float (phony_dim_0) ;\n",
    "#         float (phony_dim_0) ;\n",
    "#         float (phony_dim_0) ;\n",
    "#         float (phony_dim_0) ;\n",
    "#         double (phony_dim']\n",
    "#                      double py_S(phony_dim_0, phony_dim_7) ;\n",
    "#         double (phony_dim_0, phony_dim_7) ;\n",
    "#         double (phony_dim_0, phony_dim_5) ;\n",
    "#         float (phony_dim_0) ;\n",
    "#         double (phony_dim_0, phony_dim_1, phony_dim_2, phony_dim_4) ;\n",
    "#         double (phony_dim_0, phony_dim_1, phony_dim_2, phony_dim_4) ;\n",
    "#         double (phony_dim_0, phony_dim_5) ;\n",
    "#         double (phony_dim_0, phony_dim_5) ;\n",
    "#         double (phony_dim_0, phony_dim_5) ;"
   ]
  },
  {
   "cell_type": "markdown",
   "id": "8f2f4538-96bb-43ca-a909-2d868a22a2b2",
   "metadata": {},
   "source": [
    "# find corrupted and also check maximum values of spectrum from SLC\n",
    "beware reading the min and max in variables cspcIm_slc and cspcRe_slc will never be between 0 and 1 since only spetrum variable is normalized\n",
    " to check that normalization is effective and suitable for training check spectrum variable"
   ]
  },
  {
   "cell_type": "code",
   "execution_count": 5,
   "id": "ed5c9758-df5d-4e47-9f16-67b2f8fe1195",
   "metadata": {},
   "outputs": [
    {
     "name": "stdout",
     "output_type": "stream",
     "text": [
      "0/1757 corrupted: 0 max Re found : 0\n",
      "40/1757 corrupted: 0 max Re found : 0.45427150043351433\n",
      "80/1757 corrupted: 0 max Re found : 0.45703255983292246\n",
      "120/1757 corrupted: 0 max Re found : 0.45703255983292246\n",
      "160/1757 corrupted: 0 max Re found : 0.45703255983292246\n",
      "200/1757 corrupted: 0 max Re found : 0.49776064022731203\n",
      "240/1757 corrupted: 0 max Re found : 0.49776064022731203\n",
      "280/1757 corrupted: 0 max Re found : 0.49776064022731203\n",
      "320/1757 corrupted: 0 max Re found : 0.49776064022731203\n",
      "360/1757 corrupted: 0 max Re found : 0.49776064022731203\n",
      "400/1757 corrupted: 0 max Re found : 0.49776064022731203\n",
      "440/1757 corrupted: 0 max Re found : 0.49776064022731203\n",
      "480/1757 corrupted: 0 max Re found : 0.49776064022731203\n",
      "520/1757 corrupted: 0 max Re found : 0.5776156565165982\n",
      "560/1757 corrupted: 0 max Re found : 0.5776156565165982\n",
      "600/1757 corrupted: 0 max Re found : 0.5776156565165982\n",
      "640/1757 corrupted: 0 max Re found : 0.5776156565165982\n",
      "680/1757 corrupted: 0 max Re found : 0.5776156565165982\n",
      "720/1757 corrupted: 0 max Re found : 0.5776156565165982\n",
      "760/1757 corrupted: 0 max Re found : 0.5776156565165982\n",
      "800/1757 corrupted: 0 max Re found : 0.5776156565165982\n",
      "840/1757 corrupted: 0 max Re found : 0.5776156565165982\n",
      "880/1757 corrupted: 0 max Re found : 0.5969936020845266\n",
      "920/1757 corrupted: 0 max Re found : 0.5969936020845266\n",
      "960/1757 corrupted: 0 max Re found : 0.5969936020845266\n",
      "1000/1757 corrupted: 0 max Re found : 0.5969936020845266\n",
      "1040/1757 corrupted: 0 max Re found : 0.5969936020845266\n",
      "1080/1757 corrupted: 0 max Re found : 0.5969936020845266\n",
      "1120/1757 corrupted: 0 max Re found : 0.5969936020845266\n",
      "1160/1757 corrupted: 0 max Re found : 0.5969936020845266\n",
      "1200/1757 corrupted: 0 max Re found : 0.5969936020845266\n",
      "1240/1757 corrupted: 0 max Re found : 0.5969936020845266\n",
      "1280/1757 corrupted: 0 max Re found : 0.5969936020845266\n",
      "1320/1757 corrupted: 0 max Re found : 0.5969936020845266\n",
      "1360/1757 corrupted: 0 max Re found : 0.5969936020845266\n",
      "1400/1757 corrupted: 0 max Re found : 0.5969936020845266\n",
      "1440/1757 corrupted: 0 max Re found : 0.5969936020845266\n",
      "1480/1757 corrupted: 0 max Re found : 0.5969936020845266\n",
      "1520/1757 corrupted: 0 max Re found : 0.7079962886768753\n",
      "1560/1757 corrupted: 0 max Re found : 0.7079962886768753\n",
      "1600/1757 corrupted: 0 max Re found : 0.7079962886768753\n",
      "1640/1757 corrupted: 0 max Re found : 0.7079962886768753\n",
      "1680/1757 corrupted: 0 max Re found : 0.7079962886768753\n",
      "1720/1757 corrupted: 0 max Re found : 0.7079962886768753\n",
      "done\n",
      "max imaginary part raw 578603895.7441841\n",
      "max real part raw 3338223525.418363\n",
      "max imaginary part spectrum 0.9723095031470113\n",
      "max real part spectrum 0.7079962886768753\n",
      "final corrupted list 0\n"
     ]
    }
   ],
   "source": [
    "import numpy as np\n",
    "files_corrupt = []\n",
    "max_value_re = 0\n",
    "max_value_im = 0\n",
    "max_spectrum_slc_re = 0\n",
    "max_spectrum_slc_im = 0\n",
    "all_max_re = []\n",
    "all_max_im = []\n",
    "all_max_spectrum_slc_re = []\n",
    "all_max_spectrum_slc_im = []\n",
    "for ffi,ff in enumerate(lst_files):\n",
    "    if ffi%40==0:\n",
    "        print('%s/%s corrupted: %s max Re found : %s'%(ffi,len(lst_files),len(files_corrupt),max_spectrum_slc_re))\n",
    "    try:\n",
    "        data = h5py.File(ff,'r')\n",
    "    except:\n",
    "        print('%s corrupted'%ff)\n",
    "        files_corrupt.append(ff)\n",
    "        data= None\n",
    "    #print('spectrum slc',data['spectrum'].shape)\n",
    "    if data:\n",
    "        if 'cspcIm_slc' in data:\n",
    "            tmpmaim = np.nanmax(data['cspcIm_slc'][:])\n",
    "            all_max_im.append(tmpmaim)\n",
    "            if tmpmaim>max_value_im:\n",
    "                max_value_im = tmpmaim\n",
    "        if 'cspcRe_slc' in data:\n",
    "            tmpmare = np.nanmax(data['cspcRe_slc'][:])\n",
    "            all_max_re.append(tmpmare)\n",
    "            if tmpmare>max_value_re:\n",
    "                max_value_re = tmpmare\n",
    "        if 'spectrum' in data:\n",
    "            tmpmare = np.nanmax(data['spectrum'][:,:,:,0])\n",
    "            tmpmaim = np.nanmax(data['spectrum'][:,:,:,1])\n",
    "            all_max_spectrum_slc_re.append(tmpmare)\n",
    "            all_max_spectrum_slc_im.append(tmpmaim)\n",
    "            if tmpmare>max_spectrum_slc_re:\n",
    "                max_spectrum_slc_re = tmpmare\n",
    "            if tmpmaim>max_spectrum_slc_im:\n",
    "                max_spectrum_slc_im = tmpmaim\n",
    "        for vv in needed_vars:\n",
    "            if vv not in data:\n",
    "                print('alerte missing : %s in %s'%(vv,ff))\n",
    "                if ff not in files_corrupt:\n",
    "                    files_corrupt.append(ff)\n",
    "            if data['nk'][:].shape[0] != data['cspcIm_slc'][:].shape[0]:\n",
    "                print('alerte length issue : nk != months in %s'%(ff))\n",
    "                if ff not in files_corrupt:\n",
    "                    files_corrupt.append(ff)\n",
    "print('done')\n",
    "print('max imaginary part raw',max_value_im)\n",
    "print('max real part raw',max_value_re)\n",
    "print('max imaginary part spectrum',max_spectrum_slc_im)\n",
    "print('max real part spectrum',max_spectrum_slc_re)\n",
    "print('final corrupted list',len(files_corrupt))"
   ]
  },
  {
   "cell_type": "code",
   "execution_count": null,
   "id": "690f50e9-a906-4e74-a026-58c006806dd0",
   "metadata": {},
   "outputs": [],
   "source": [
    "max imaginary part spectrum 152703468967.57712\n",
    "max real part spectrum 283349121369042.2"
   ]
  },
  {
   "cell_type": "code",
   "execution_count": 48,
   "id": "f1c6fb75-ab23-4b55-be05-d9af8402f2d6",
   "metadata": {},
   "outputs": [],
   "source": [
    "all_max_re = np.array(all_max_re)"
   ]
  },
  {
   "cell_type": "code",
   "execution_count": 49,
   "id": "29839b4f-4475-49fe-abd5-c18da1e0d2b2",
   "metadata": {},
   "outputs": [],
   "source": [
    "all_max_im = np.array(all_max_im)"
   ]
  },
  {
   "cell_type": "code",
   "execution_count": 50,
   "id": "2fb3c184-7876-4e85-819b-9e384a677c52",
   "metadata": {},
   "outputs": [
    {
     "data": {
      "text/plain": [
       "6.116145681850442e-22"
      ]
     },
     "execution_count": 50,
     "metadata": {},
     "output_type": "execute_result"
    }
   ],
   "source": [
    "tmpmaim"
   ]
  },
  {
   "cell_type": "code",
   "execution_count": 51,
   "id": "c2712383-074c-4c7d-9a78-1c2324995297",
   "metadata": {},
   "outputs": [
    {
     "data": {
      "text/plain": [
       "152703468967.57712"
      ]
     },
     "execution_count": 51,
     "metadata": {},
     "output_type": "execute_result"
    }
   ],
   "source": [
    "max_value_im"
   ]
  },
  {
   "cell_type": "code",
   "execution_count": 35,
   "id": "49ce94b2-09a4-4337-9f53-ae6eff2e1cfe",
   "metadata": {},
   "outputs": [
    {
     "name": "stdout",
     "output_type": "stream",
     "text": [
      "[8.71433791e+06 4.73538974e+07 3.32226870e+07 ... 8.41888225e+06\n",
      " 3.09469823e+08 1.26055473e+07]\n"
     ]
    }
   ],
   "source": [
    "print(all_max_im)"
   ]
  },
  {
   "cell_type": "code",
   "execution_count": 36,
   "id": "a33c9d27-00f5-4f4d-ad81-bb9c10f5a6b8",
   "metadata": {},
   "outputs": [],
   "source": [
    "all_max_im = np.array(all_max_im)"
   ]
  },
  {
   "cell_type": "code",
   "execution_count": 37,
   "id": "3bbac1d5-17ea-44ed-8ea4-f4d71ccf6db5",
   "metadata": {},
   "outputs": [
    {
     "data": {
      "text/plain": [
       "array([2.19522080e+08, 6.30271331e+08, 6.50203023e+08, ...,\n",
       "       6.30202656e+08, 1.63228185e+09, 2.30486716e+08])"
      ]
     },
     "execution_count": 37,
     "metadata": {},
     "output_type": "execute_result"
    }
   ],
   "source": [
    "all_max_re"
   ]
  },
  {
   "cell_type": "code",
   "execution_count": null,
   "id": "062831b5-050b-4098-b894-6e00442160f5",
   "metadata": {},
   "outputs": [],
   "source": [
    "print(all_max_re.max())"
   ]
  },
  {
   "cell_type": "code",
   "execution_count": 38,
   "id": "26a16b24-b4c1-49db-8d9f-10d7fb96f93a",
   "metadata": {},
   "outputs": [],
   "source": [
    "all_max_im_log = np.log10(all_max_im)\n",
    "all_max_re_log = np.log10(all_max_re)"
   ]
  },
  {
   "cell_type": "markdown",
   "id": "efdf1cd6-d5a4-4c15-a1fa-e02b71ecd546",
   "metadata": {},
   "source": [
    "# display distribution of maximums in log"
   ]
  },
  {
   "cell_type": "code",
   "execution_count": 39,
   "id": "f619f77f-37fc-460d-9d86-6076b6e9b9ce",
   "metadata": {},
   "outputs": [
    {
     "data": {
      "image/png": "[encoded data removed]",
      "text/plain": [
       "<Figure size 432x288 with 1 Axes>"
      ]
     },
     "metadata": {
      "needs_background": "light"
     },
     "output_type": "display_data"
    },
    {
     "data": {
      "image/png": "[encoded data removed]",
      "text/plain": [
       "<Figure size 432x288 with 1 Axes>"
      ]
     },
     "metadata": {
      "needs_background": "light"
     },
     "output_type": "display_data"
    }
   ],
   "source": [
    "from matplotlib import pyplot as plt\n",
    "#print(len(all_max_re),all_max_re)\n",
    "#klsdjflsd\n",
    "bins  = np.linspace(all_max_re_log.min(),all_max_re_log.max(),20)\n",
    "plt.title('maximum pixel value in X-spectra SLC Real part\\n nb nan: %s'%(np.isnan(np.array(all_max_re_log)).sum()))\n",
    "plt.hist(np.array(all_max_re_log).ravel(),bins,label='nb : %s'%len(all_max_re_log))\n",
    "plt.grid(True)\n",
    "plt.legend()\n",
    "plt.show()\n",
    "\n",
    "\n",
    "bins  = np.linspace(all_max_im_log.min(),all_max_im_log.max(),20)\n",
    "plt.title('maximum pixel value in X-spectra SLC imaginary part\\n nb nan: %s'%(np.isnan(np.array(all_max_im_log)).sum()))\n",
    "plt.hist(all_max_im_log.ravel(),bins,label='nb : %s'%len(all_max_im_log))\n",
    "plt.grid(True)\n",
    "plt.legend()\n",
    "plt.show()"
   ]
  },
  {
   "cell_type": "code",
   "execution_count": 56,
   "id": "9265276c-77b8-4b61-8ca3-11015399d73e",
   "metadata": {},
   "outputs": [
    {
     "data": {
      "image/png": "[encoded data removed]",
      "text/plain": [
       "<Figure size 432x288 with 1 Axes>"
      ]
     },
     "metadata": {
      "needs_background": "light"
     },
     "output_type": "display_data"
    },
    {
     "data": {
      "image/png": "[encoded data removed]",
      "text/plain": [
       "<Figure size 432x288 with 1 Axes>"
      ]
     },
     "metadata": {
      "needs_background": "light"
     },
     "output_type": "display_data"
    }
   ],
   "source": [
    "all_max_spectrum_slc_im = np.array(all_max_spectrum_slc_im)\n",
    "all_max_spectrum_slc_re = np.array(all_max_spectrum_slc_re)\n",
    "from matplotlib import pyplot as plt\n",
    "#print(len(all_max_re),all_max_re)\n",
    "#klsdjflsd\n",
    "bins  = np.linspace(all_max_spectrum_slc_re.min(),all_max_spectrum_slc_re.max(),100)\n",
    "plt.title('maximum pixel value in X-spectra SLC Real part\\n nb nan: %s'%(np.isnan(np.array(all_max_spectrum_slc_re)).sum()))\n",
    "plt.hist(np.array(all_max_spectrum_slc_re).ravel(),bins,label='nb : %s'%len(all_max_spectrum_slc_re))\n",
    "plt.grid(True)\n",
    "plt.legend()\n",
    "plt.show()\n",
    "\n",
    "\n",
    "bins  = np.linspace(all_max_spectrum_slc_im.min(),all_max_spectrum_slc_im.max(),100)\n",
    "plt.title('maximum pixel value in X-spectra SLC imaginary part\\n nb nan: %s'%(np.isnan(np.array(all_max_spectrum_slc_im)).sum()))\n",
    "plt.hist(all_max_spectrum_slc_im.ravel(),bins,label='nb : %s'%len(all_max_spectrum_slc_im))\n",
    "plt.grid(True)\n",
    "plt.legend()\n",
    "plt.show()"
   ]
  },
  {
   "cell_type": "code",
   "execution_count": 5,
   "id": "79fe1caf-f7cd-4056-9942-438e039bc9d1",
   "metadata": {},
   "outputs": [
    {
     "name": "stdout",
     "output_type": "stream",
     "text": [
      "[]\n"
     ]
    }
   ],
   "source": [
    "print(files_corrupt)"
   ]
  },
  {
   "cell_type": "markdown",
   "id": "b32842f4-708f-4557-adbe-74bd31502c25",
   "metadata": {},
   "source": [
    "# remove corrupted files"
   ]
  },
  {
   "cell_type": "code",
   "execution_count": 1,
   "id": "9acff0b0-df54-4087-bcde-3bb99a49af81",
   "metadata": {},
   "outputs": [],
   "source": [
    "! rm -f /home/datawork-cersat-public/cache/project/mpc-sentinel1/analysis/s1_data_analysis/hs_nn/exp1/training_dataset/v3_norm/S1A_training_exp1_Hs_NN_regression_20170706.h5 \n",
    "! rm -f /home/datawork-cersat-public/cache/project/mpc-sentinel1/analysis/s1_data_analysis/hs_nn/exp1/training_dataset/v3_norm/S1B_training_exp1_Hs_NN_regression_20180120.h5\n",
    "! rm -f /home/datawork-cersat-public/cache/project/mpc-sentinel1/analysis/s1_data_analysis/hs_nn/exp1/training_dataset/v3_norm/S1A_training_exp1_Hs_NN_regression_20171126.h5\n",
    "! rm -f /home/datawork-cersat-public/cache/project/mpc-sentinel1/analysis/s1_data_analysis/hs_nn/exp1/training_dataset/v3_norm/S1A_training_exp1_Hs_NN_regression_20170223.h5\n",
    "# note jai refais les fichiers supprimes a la main en terminal"
   ]
  },
  {
   "cell_type": "code",
   "execution_count": null,
   "id": "b26f604c-5bc7-4779-8dfe-b5452ab3044e",
   "metadata": {},
   "outputs": [],
   "source": []
  }
 ],
 "metadata": {
  "kernelspec": {
   "display_name": "xsarQuach2020",
   "language": "python",
   "name": "xsarquach2020"
  },
  "language_info": {
   "codemirror_mode": {
    "name": "ipython",
    "version": 3
   },
   "file_extension": ".py",
   "mimetype": "text/x-python",
   "name": "python",
   "nbconvert_exporter": "python",
   "pygments_lexer": "ipython3",
   "version": "3.8.8"
  }
 },
 "nbformat": 4,
 "nbformat_minor": 5
}
