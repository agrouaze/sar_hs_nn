{
 "cells": [
  {
   "cell_type": "code",
   "execution_count": 1,
   "metadata": {},
   "outputs": [
    {
     "data": {
      "text/plain": [
       "'\\nThis notebook illustrates how to use sarhspredictor library\\nauthor: A. Grouazel IFREMER\\ncreation: January 2021\\n'"
      ]
     },
     "execution_count": 1,
     "metadata": {},
     "output_type": "execute_result"
    }
   ],
   "source": [
    "\"\"\"\n",
    "This notebook illustrates how to use sarhspredictor library\n",
    "author: A. Grouazel IFREMER\n",
    "creation: January 2021\n",
    "\"\"\""
   ]
  },
  {
   "cell_type": "code",
   "execution_count": 1,
   "metadata": {},
   "outputs": [
    {
     "name": "stderr",
     "output_type": "stream",
     "text": [
      "INFO:root:start demo\n"
     ]
    }
   ],
   "source": [
    "import logging\n",
    "import time\n",
    "import os\n",
    "import sys\n",
    "import xarray\n",
    "from importlib import reload\n",
    "reload(logging)\n",
    "logging.basicConfig(level=logging.INFO)\n",
    "logging.info('start demo')"
   ]
  },
  {
   "cell_type": "markdown",
   "metadata": {},
   "source": [
    "# define input file"
   ]
  },
  {
   "cell_type": "code",
   "execution_count": 2,
   "metadata": {},
   "outputs": [
    {
     "name": "stdout",
     "output_type": "stream",
     "text": [
      "<xarray.Dataset>\n",
      "Dimensions:                   (oswAngularBinSize: 72, oswAzSize: 1, oswKxBinSize: 128, oswKyBinSize: 185, oswLag: 3, oswPartitions: 5, oswRaSize: 1, oswWavenumberBinSize: 60, owiAzSize: 19, owiIncSize: 12, owiPolarisation: 1, owiRaSize: 20, rvlAzSize: 12, rvlRaSize: 10)\n",
      "Coordinates:\n",
      "    oswPartitions             (oswAzSize, oswRaSize, oswAngularBinSize, oswWavenumberBinSize) float32 ...\n",
      "Dimensions without coordinates: oswAngularBinSize, oswAzSize, oswKxBinSize, oswKyBinSize, oswLag, oswRaSize, oswWavenumberBinSize, owiAzSize, owiIncSize, owiPolarisation, owiRaSize, rvlAzSize, rvlRaSize\n",
      "Data variables: (12/102)\n",
      "    owiLon                    (owiAzSize, owiRaSize) float32 ...\n",
      "    owiLat                    (owiAzSize, owiRaSize) float32 ...\n",
      "    owiIncidenceAngle         (owiAzSize, owiRaSize) float32 ...\n",
      "    owiElevationAngle         (owiAzSize, owiRaSize) float32 ...\n",
      "    owiWindSpeed              (owiAzSize, owiRaSize) float32 ...\n",
      "    owiWindDirection          (owiAzSize, owiRaSize) float32 ...\n",
      "    ...                        ...\n",
      "    oswEllipsWidthStdDev      (oswAzSize, oswRaSize, oswPartitions) float32 ...\n",
      "    owiHs                     (owiAzSize, owiRaSize, oswPartitions) float32 ...\n",
      "    owiWl                     (owiAzSize, owiRaSize, oswPartitions) float32 ...\n",
      "    owiWindSeaHs              (owiAzSize, owiRaSize) float32 ...\n",
      "    owiDirmet                 (owiAzSize, owiRaSize, oswPartitions) float32 ...\n",
      "    owiRadVel                 (owiAzSize, owiRaSize) float32 ...\n",
      "Attributes: (12/27)\n",
      "    title:                 Sentinel-1 OCN Product\n",
      "    sourceProduct:         S1A_WV_SL2__1_SV_20210201T083223_20210201T084818_0...\n",
      "    missionName:           S1A\n",
      "    missionPhase:          Operational\n",
      "    polarisation:          VV\n",
      "    owiAlgorithmVersion:   s-1 owi V1.0\n",
      "    ...                    ...\n",
      "    statevectorUtc:        01-FEB-2021 08:33:07.699743\n",
      "    statevectorPos:        [ 3430582.269195 -1589230.284968  5971269.757028]\n",
      "    statevectorVel:        [ 4596.790762 -4636.226436 -3865.975881]\n",
      "    statevectorAcc:        [0. 0. 0.]\n",
      "    prf:                   1650.168040094962\n",
      "    owiNoiseCorrection:    True\n"
     ]
    }
   ],
   "source": [
    "# official Sentinel-1 WV OCN Level-2 netcdf file containing SAR image cross spectra\n",
    "ff = './s1a-wv2-ocn-vv-20210201t083307-20210201t083310-036394-044589-004.nc'\n",
    "ds_input = xarray.open_dataset(ff)\n",
    "print(ds_input)"
   ]
  },
  {
   "cell_type": "markdown",
   "metadata": {},
   "source": [
    "# load a NN model for the Hs prediction"
   ]
  },
  {
   "cell_type": "code",
   "execution_count": 3,
   "metadata": {},
   "outputs": [
    {
     "name": "stdout",
     "output_type": "stream",
     "text": [
      "env: CUDA_VISIBLE_DEVICES=0\n"
     ]
    },
    {
     "name": "stderr",
     "output_type": "stream",
     "text": [
      "WARNING:tensorflow:From /home1/datawork/agrouaze/conda_envs2/envs/cwave/lib/python3.7/site-packages/tensorflow_core/python/ops/resource_variable_ops.py:1630: calling BaseResourceVariable.__init__ (from tensorflow.python.ops.resource_variable_ops) with constraint is deprecated and will be removed in a future version.\n",
      "Instructions for updating:\n",
      "If using Keras pass *_constraint arguments to layers.\n"
     ]
    },
    {
     "name": "stdout",
     "output_type": "stream",
     "text": [
      "keras 2.2.4-tf\n",
      "tensorflow 1.15.0\n",
      "\n",
      "<tensorflow.python.keras.engine.training.Model object at 0x7fcba5f4cc10>\n"
     ]
    }
   ],
   "source": [
    "from sarhspredictor.lib.load_quach_2020_keras_model import load_quach2020_model_v2\n",
    "heteroskedastic_2017 = load_quach2020_model_v2()\n",
    "print(heteroskedastic_2017)"
   ]
  },
  {
   "cell_type": "markdown",
   "metadata": {},
   "source": [
    "# predict Hs and Hs_std"
   ]
  },
  {
   "cell_type": "code",
   "execution_count": 5,
   "metadata": {},
   "outputs": [
    {
     "name": "stderr",
     "output_type": "stream",
     "text": [
      "INFO:root:start reading S1 WV OCN data\n"
     ]
    },
    {
     "name": "stdout",
     "output_type": "stream",
     "text": [
      "env: CUDA_VISIBLE_DEVICES=0\n",
      "env: CUDA_VISIBLE_DEVICES=0\n"
     ]
    },
    {
     "name": "stderr",
     "output_type": "stream",
     "text": [
      "INFO:root:Nb pts in dataset: 1\n",
      "INFO:root:SAR data ready to be used\n",
      "INFO:root:re : (1, 72, 60)\n",
      "INFO:root:im : (1, 72, 60)\n",
      "INFO:root:spectrum shape : (1, 72, 60, 2)\n"
     ]
    },
    {
     "name": "stdout",
     "output_type": "stream",
     "text": [
      "Hs:  [5.7149305] m\n",
      "Hs std:  [0.6566842] m\n"
     ]
    }
   ],
   "source": [
    "import sarhspredictor.lib.sarhs.preprocess\n",
    "reload(sarhspredictor.lib.sarhs.preprocess)\n",
    "import sarhspredictor.lib.predict_with_quach2020_on_OCN_using_keras\n",
    "reload(sarhspredictor.lib.predict_with_quach2020_on_OCN_using_keras)\n",
    "\n",
    "\n",
    "output_datatset = sarhspredictor.lib.predict_with_quach2020_on_OCN_using_keras.main_level_1(ff,heteroskedastic_2017)\n",
    "print('Hs: ',output_datatset['swh'].values,'m')\n",
    "print('Hs std: ',output_datatset['swh_uncertainty'].values,'m')"
   ]
  }
 ],
 "metadata": {
  "kernelspec": {
   "display_name": "cwave",
   "language": "python",
   "name": "cwave"
  },
  "language_info": {
   "codemirror_mode": {
    "name": "ipython",
    "version": 3
   },
   "file_extension": ".py",
   "mimetype": "text/x-python",
   "name": "python",
   "nbconvert_exporter": "python",
   "pygments_lexer": "ipython3",
   "version": "3.7.8"
  }
 },
 "nbformat": 4,
 "nbformat_minor": 4
}
